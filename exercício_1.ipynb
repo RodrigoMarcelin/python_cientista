{
 "cells": [
  {
   "cell_type": "code",
   "execution_count": 5,
   "metadata": {},
   "outputs": [
    {
     "name": "stdout",
     "output_type": "stream",
     "text": [
      "Nao eh numero\n"
     ]
    }
   ],
   "source": [
    "variavel = input(\"VARIAVEL: \")\n",
    "\n",
    "if type(variavel) is str:\n",
    "    print('Nao eh numero')\n",
    "elif float(variavel) == 0:\n",
    "    print('zero')\n",
    "elif float(variavel) > 0:\n",
    "    print('Numero Positivo')\n",
    "elif float(variavel) < 0:\n",
    "    print('Numero negativo')\n",
    "\n",
    "     "
   ]
  }
 ],
 "metadata": {
  "interpreter": {
   "hash": "7ee7765acde157d0553d062bf8a3e932bd58abec0090ecc73906b90319e40bff"
  },
  "kernelspec": {
   "display_name": "Python 3.6.8 64-bit (system)",
   "name": "python3"
  },
  "language_info": {
   "codemirror_mode": {
    "name": "ipython",
    "version": 3
   },
   "file_extension": ".py",
   "mimetype": "text/x-python",
   "name": "python",
   "nbconvert_exporter": "python",
   "pygments_lexer": "ipython3",
   "version": "3.6.8"
  },
  "orig_nbformat": 4
 },
 "nbformat": 4,
 "nbformat_minor": 2
}
